{
 "cells": [
  {
   "cell_type": "code",
   "execution_count": 76,
   "metadata": {},
   "outputs": [],
   "source": [
    "%matplotlib inline"
   ]
  },
  {
   "cell_type": "code",
   "execution_count": 77,
   "metadata": {},
   "outputs": [],
   "source": [
    "from scipy.spatial.distance import jaccard\n",
    "from framed.cobra.ensemble import load_ensemble\n",
    "import matplotlib.pyplot as plt\n",
    "import seaborn as sns\n",
    "sns.set_style('white')"
   ]
  },
  {
   "cell_type": "markdown",
   "metadata": {},
   "source": [
    "### Load models"
   ]
  },
  {
   "cell_type": "code",
   "execution_count": 79,
   "metadata": {},
   "outputs": [],
   "source": [
    "## = comment\n",
    "# = silenced code\n",
    "\n",
    "## gut species\n",
    "#organisms = ['B. uniformis', 'R. bromii', 'B. wexlerae', 'E. rectale', 'F. saccharivorans']\n",
    "\n",
    "## normal gut models\n",
    "#models = {\n",
    "#    'B. uniformis': '../ensembles/ERR260255_bin.24.s.xml',\n",
    "#    'R. bromii': '../ensembles/ERR260255_bin.7.p.xml',\n",
    "#    'B. wexlerae': '../ensembles/ERR260255_bin.9.s.xml',\n",
    "#    'E. rectale': '../ensembles/ERR260255_bin.19.p.xml',\n",
    "#    'F. saccharivorans': '../ensembles/ERR260255_bin.14.p.xml'\n",
    "#}\n",
    "\n",
    "## impaired gut models\n",
    "#models = {\n",
    "#    'B. uniformis': '../ensembles/ERR260172_bin.10.p.xml',\n",
    "#    'R. bromii': '../ensembles/ERR260172_bin.44.p.xml',\n",
    "#    'B. wexlerae': '../ensembles/ERR260172_bin.7.s.xml',\n",
    "#    'E. rectale': '../ensembles/ERR260172_bin.31.s.xml',\n",
    "#    'F. saccharivorans': '../ensembles/ERR260172_bin.34.p.xml'\n",
    "#}\n",
    "\n",
    "## diabetes gut models\n",
    "#models = {\n",
    "#    'B. uniformis': '../ensembles/ERR260140_bin.3.s.xml',\n",
    "#    'R. bromii': '../ensembles/ERR260140_bin.19.p.xml',\n",
    "#    'B. wexlerae': '../ensembles/ERR260140_bin.13.s.xml',\n",
    "#    'E. rectale': '../ensembles/ERR260140_bin.11.s.xml',\n",
    "#    'F. saccharivorans': '../ensembles/ERR260140_bin.10.p.xml'\n",
    "#}\n",
    "\n",
    "## refseq gut models\n",
    "#models = {\n",
    "#    'B. uniformis': '../ensembles/GCF_018292165.1_ASM1829216v1_protein.xml',\n",
    "#    'R. bromii': '../ensembles/GCF_002834225.1_ASM283422v1_protein.xml',\n",
    "#    'B. wexlerae': '../ensembles/GCF_018785545.1_ASM1878554v1_protein.xml',\n",
    "#    'E. rectale': '../ensembles/GCF_000020605.1_ASM2060v1_protein.xml',\n",
    "#    'F. saccharivorans': '../ensembles/GCF_015557635.1_ASM1555763v1_protein.xml'\n",
    "#}\n",
    "\n",
    "# kefir species\n",
    "#organisms = ['L. mesenteroides', 'L. lactis', 'A. fabarum', 'L. kefiranofaciens', 'L. kefiri']\n",
    "\n",
    "## kefir models\n",
    "#models = {\n",
    "#    'L. mesenteroides': '../ensembles/230a_03182016.xml',\n",
    "#    'L. lactis': '../ensembles/261_03182016.xml',\n",
    "#    'A. fabarum': '../ensembles/290_03182016.xml',\n",
    "#    'L. kefiranofaciens': '../ensembles/322b_03182016.xml',\n",
    "#    'L. kefiri': '../ensembles/376_03182016.xml'\n",
    "#}\n",
    "\n",
    "## soil species\n",
    "organisms = ['Thermoleophilaceae', 'L. lactis', 'A. fabarum', 'L. kefiranofaciens', 'L. kefiri']\n",
    "\n",
    "## soil models\n",
    "models = {\n",
    "    'B. uniformis': '../ensembles/GCF_018292165.1_ASM1829216v1_protein.xml',\n",
    "    'R. bromii': '../ensembles/GCF_002834225.1_ASM283422v1_protein.xml',\n",
    "    'B. wexlerae': '../ensembles/GCF_018785545.1_ASM1878554v1_protein.xml',\n",
    "    'E. rectale': '../ensembles/GCF_000020605.1_ASM2060v1_protein.xml',\n",
    "    'F. saccharivorans': '../ensembles/GCF_015557635.1_ASM1555763v1_protein.xml'\n",
    "}\n",
    "\n",
    "for label, model_file in models.items():\n",
    "    models[label] =  load_ensemble(model_file, flavor='cobra')"
   ]
  },
  {
   "cell_type": "markdown",
   "metadata": {},
   "source": [
    "### Compute distances"
   ]
  },
  {
   "cell_type": "code",
   "execution_count": 80,
   "metadata": {},
   "outputs": [],
   "source": [
    "def ensemble_distance(ensemble):\n",
    "    bin_matrix = [[int(ensemble.reaction_states[r_id][i])\n",
    "                   for r_id in ensemble.reaction_states]\n",
    "                  for i in range(ensemble.size)]\n",
    "    \n",
    "    distances = [jaccard(bin_matrix[i], bin_matrix[j])\n",
    "                 for i in range(ensemble.size)\n",
    "                 for j in range(i+1, ensemble.size)]\n",
    "    \n",
    "    return distances"
   ]
  },
  {
   "cell_type": "code",
   "execution_count": 81,
   "metadata": {},
   "outputs": [],
   "source": [
    "dists = {label: ensemble_distance(model) for label, model in models.items()}"
   ]
  },
  {
   "cell_type": "markdown",
   "metadata": {},
   "source": [
    "### Plot results"
   ]
  },
  {
   "cell_type": "code",
   "execution_count": 82,
   "metadata": {},
   "outputs": [
    {
     "name": "stderr",
     "output_type": "stream",
     "text": [
      "/opt/anaconda3/lib/python3.8/site-packages/seaborn/distributions.py:2557: FutureWarning: `distplot` is a deprecated function and will be removed in a future version. Please adapt your code to use either `displot` (a figure-level function with similar flexibility) or `histplot` (an axes-level function for histograms).\n",
      "  warnings.warn(msg, FutureWarning)\n",
      "/opt/anaconda3/lib/python3.8/site-packages/seaborn/distributions.py:2557: FutureWarning: `distplot` is a deprecated function and will be removed in a future version. Please adapt your code to use either `displot` (a figure-level function with similar flexibility) or `histplot` (an axes-level function for histograms).\n",
      "  warnings.warn(msg, FutureWarning)\n",
      "/opt/anaconda3/lib/python3.8/site-packages/seaborn/distributions.py:2557: FutureWarning: `distplot` is a deprecated function and will be removed in a future version. Please adapt your code to use either `displot` (a figure-level function with similar flexibility) or `histplot` (an axes-level function for histograms).\n",
      "  warnings.warn(msg, FutureWarning)\n",
      "/opt/anaconda3/lib/python3.8/site-packages/seaborn/distributions.py:2557: FutureWarning: `distplot` is a deprecated function and will be removed in a future version. Please adapt your code to use either `displot` (a figure-level function with similar flexibility) or `histplot` (an axes-level function for histograms).\n",
      "  warnings.warn(msg, FutureWarning)\n",
      "/opt/anaconda3/lib/python3.8/site-packages/seaborn/distributions.py:2557: FutureWarning: `distplot` is a deprecated function and will be removed in a future version. Please adapt your code to use either `displot` (a figure-level function with similar flexibility) or `histplot` (an axes-level function for histograms).\n",
      "  warnings.warn(msg, FutureWarning)\n"
     ]
    },
    {
     "data": {
      "image/png": "[encoded data removed]",
      "text/plain": [
       "<Figure size 576x252 with 1 Axes>"
      ]
     },
     "metadata": {},
     "output_type": "display_data"
    }
   ],
   "source": [
    "_, ax = plt.subplots(figsize=(8,3.5))\n",
    "\n",
    "colors = sns.color_palette(n_colors=5)\n",
    "\n",
    "for i, label in enumerate(organisms):\n",
    "    sns.distplot(dists[label], ax=ax, bins=20, kde=True, norm_hist=True, color=colors[i],\n",
    "                  hist_kws={'alpha': 0.2}, kde_kws={'shade': True, 'alpha':0.9})\n",
    "\n",
    "ax.set_xlabel('Jaccard distance')\n",
    "ax.set_ylabel('Frequency')\n",
    "ax.legend(organisms)\n",
    "ax.set_xlim(0,0.6)\n",
    "ax.set_ylim(0,70)\n",
    "plt.tight_layout()\n",
    "plt.savefig('../plots/ensemble_dist/kefir.png', dpi=300)"
   ]
  },
  {
   "cell_type": "code",
   "execution_count": null,
   "metadata": {},
   "outputs": [],
   "source": []
  }
 ],
 "metadata": {
  "anaconda-cloud": {},
  "kernelspec": {
   "display_name": "Python 3",
   "language": "python",
   "name": "python3"
  },
  "language_info": {
   "codemirror_mode": {
    "name": "ipython",
    "version": 3
   },
   "file_extension": ".py",
   "mimetype": "text/x-python",
   "name": "python",
   "nbconvert_exporter": "python",
   "pygments_lexer": "ipython3",
   "version": "3.8.8"
  }
 },
 "nbformat": 4,
 "nbformat_minor": 2
}
