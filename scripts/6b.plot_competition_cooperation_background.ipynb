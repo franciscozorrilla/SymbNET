{
 "cells": [
  {
   "cell_type": "code",
   "execution_count": null,
   "metadata": {},
   "outputs": [],
   "source": [
    "# MODIFY THIS ONE TO PLOT DATASETS AGAINST PAPER FIGURE\n",
    "# This script is a barely modified fork from Daniel's cooccurrence repo\n",
    "# https://github.com/cdanielmachado/cooccurrence/blob/master/notebooks/Figure%201.ipynb"
   ]
  },
  {
   "cell_type": "code",
   "execution_count": 3,
   "metadata": {
    "scrolled": true
   },
   "outputs": [],
   "source": [
    "%matplotlib inline"
   ]
  },
  {
   "cell_type": "code",
   "execution_count": 4,
   "metadata": {
    "scrolled": true
   },
   "outputs": [],
   "source": [
    "import pandas as pd\n",
    "from glob import glob\n",
    "import seaborn as sns\n",
    "import matplotlib.pyplot as plt\n",
    "import numpy as np\n",
    "import matplotlib.lines as mlines\n",
    "from random import sample"
   ]
  },
  {
   "cell_type": "code",
   "execution_count": 5,
   "metadata": {
    "scrolled": true
   },
   "outputs": [],
   "source": [
    "sns.set_palette('deep')"
   ]
  },
  {
   "cell_type": "markdown",
   "metadata": {},
   "source": [
    "### Load simulation results"
   ]
  },
  {
   "cell_type": "code",
   "execution_count": 19,
   "metadata": {
    "scrolled": true
   },
   "outputs": [],
   "source": [
    "types = [ \"gut_normal\" ,\"gut_impaired\",\"gut_t2d\",\"gut_refseq\",\"kefir\"]\n",
    "#types = [\"random\", \"bin_rnd_01\", \"bin_rnd_001\", \"gut_normal\" ,\"gut_impaired\",\"gut_t2d\",\"gut_refseq\",\"kefir\"]\n",
    "#types = [\"random\", \"bin_rnd_01\", \"bin_rnd_001\",]"
   ]
  },
  {
   "cell_type": "code",
   "execution_count": 20,
   "metadata": {},
   "outputs": [],
   "source": [
    "dfs = []\n",
    "for commtype in types:\n",
    "    dfi = pd.concat(pd.read_csv(filename, sep='\\t', dtype={'mip': float, 'mro': float})\n",
    "                    for filename in glob(f\"data/cooccurrence/simulation/mip_mro/{commtype}/*_global.tsv\"))\n",
    "    dfi['type'] = commtype\n",
    "    dfs.append(dfi)\n",
    "df = pd.concat(dfs)\n",
    "df.reset_index(inplace=True)\n",
    "df.dropna(inplace=True)\n",
    "df[\"community size\"] = df[\"size\"]\n"
   ]
  },
  {
   "cell_type": "code",
   "execution_count": 21,
   "metadata": {},
   "outputs": [
    {
     "data": {
      "text/html": [
       "<div>\n",
       "<style scoped>\n",
       "    .dataframe tbody tr th:only-of-type {\n",
       "        vertical-align: middle;\n",
       "    }\n",
       "\n",
       "    .dataframe tbody tr th {\n",
       "        vertical-align: top;\n",
       "    }\n",
       "\n",
       "    .dataframe thead th {\n",
       "        text-align: right;\n",
       "    }\n",
       "</style>\n",
       "<table border=\"1\" class=\"dataframe\">\n",
       "  <thead>\n",
       "    <tr style=\"text-align: right;\">\n",
       "      <th></th>\n",
       "      <th>index</th>\n",
       "      <th>community</th>\n",
       "      <th>medium</th>\n",
       "      <th>size</th>\n",
       "      <th>mip</th>\n",
       "      <th>mro</th>\n",
       "      <th>type</th>\n",
       "      <th>community size</th>\n",
       "    </tr>\n",
       "  </thead>\n",
       "  <tbody>\n",
       "    <tr>\n",
       "      <th>0</th>\n",
       "      <td>0</td>\n",
       "      <td>gut_normal</td>\n",
       "      <td>complete</td>\n",
       "      <td>5</td>\n",
       "      <td>9.0</td>\n",
       "      <td>0.680723</td>\n",
       "      <td>gut_normal</td>\n",
       "      <td>5</td>\n",
       "    </tr>\n",
       "    <tr>\n",
       "      <th>1</th>\n",
       "      <td>1</td>\n",
       "      <td>gut_normal</td>\n",
       "      <td>complete</td>\n",
       "      <td>5</td>\n",
       "      <td>9.0</td>\n",
       "      <td>0.704819</td>\n",
       "      <td>gut_normal</td>\n",
       "      <td>5</td>\n",
       "    </tr>\n",
       "    <tr>\n",
       "      <th>2</th>\n",
       "      <td>2</td>\n",
       "      <td>gut_normal</td>\n",
       "      <td>complete</td>\n",
       "      <td>5</td>\n",
       "      <td>7.0</td>\n",
       "      <td>0.704819</td>\n",
       "      <td>gut_normal</td>\n",
       "      <td>5</td>\n",
       "    </tr>\n",
       "    <tr>\n",
       "      <th>3</th>\n",
       "      <td>3</td>\n",
       "      <td>gut_normal</td>\n",
       "      <td>complete</td>\n",
       "      <td>5</td>\n",
       "      <td>7.0</td>\n",
       "      <td>0.680723</td>\n",
       "      <td>gut_normal</td>\n",
       "      <td>5</td>\n",
       "    </tr>\n",
       "    <tr>\n",
       "      <th>4</th>\n",
       "      <td>4</td>\n",
       "      <td>gut_normal</td>\n",
       "      <td>complete</td>\n",
       "      <td>5</td>\n",
       "      <td>9.0</td>\n",
       "      <td>0.704819</td>\n",
       "      <td>gut_normal</td>\n",
       "      <td>5</td>\n",
       "    </tr>\n",
       "    <tr>\n",
       "      <th>...</th>\n",
       "      <td>...</td>\n",
       "      <td>...</td>\n",
       "      <td>...</td>\n",
       "      <td>...</td>\n",
       "      <td>...</td>\n",
       "      <td>...</td>\n",
       "      <td>...</td>\n",
       "      <td>...</td>\n",
       "    </tr>\n",
       "    <tr>\n",
       "      <th>120</th>\n",
       "      <td>20</td>\n",
       "      <td>kefir</td>\n",
       "      <td>complete</td>\n",
       "      <td>5</td>\n",
       "      <td>11.0</td>\n",
       "      <td>0.654255</td>\n",
       "      <td>kefir</td>\n",
       "      <td>5</td>\n",
       "    </tr>\n",
       "    <tr>\n",
       "      <th>121</th>\n",
       "      <td>21</td>\n",
       "      <td>kefir</td>\n",
       "      <td>complete</td>\n",
       "      <td>5</td>\n",
       "      <td>12.0</td>\n",
       "      <td>0.654255</td>\n",
       "      <td>kefir</td>\n",
       "      <td>5</td>\n",
       "    </tr>\n",
       "    <tr>\n",
       "      <th>122</th>\n",
       "      <td>22</td>\n",
       "      <td>kefir</td>\n",
       "      <td>complete</td>\n",
       "      <td>5</td>\n",
       "      <td>12.0</td>\n",
       "      <td>0.642105</td>\n",
       "      <td>kefir</td>\n",
       "      <td>5</td>\n",
       "    </tr>\n",
       "    <tr>\n",
       "      <th>123</th>\n",
       "      <td>23</td>\n",
       "      <td>kefir</td>\n",
       "      <td>complete</td>\n",
       "      <td>5</td>\n",
       "      <td>12.0</td>\n",
       "      <td>0.644330</td>\n",
       "      <td>kefir</td>\n",
       "      <td>5</td>\n",
       "    </tr>\n",
       "    <tr>\n",
       "      <th>124</th>\n",
       "      <td>24</td>\n",
       "      <td>kefir</td>\n",
       "      <td>complete</td>\n",
       "      <td>5</td>\n",
       "      <td>11.0</td>\n",
       "      <td>0.651042</td>\n",
       "      <td>kefir</td>\n",
       "      <td>5</td>\n",
       "    </tr>\n",
       "  </tbody>\n",
       "</table>\n",
       "<p>125 rows × 8 columns</p>\n",
       "</div>"
      ],
      "text/plain": [
       "     index   community    medium  size   mip       mro        type  \\\n",
       "0        0  gut_normal  complete     5   9.0  0.680723  gut_normal   \n",
       "1        1  gut_normal  complete     5   9.0  0.704819  gut_normal   \n",
       "2        2  gut_normal  complete     5   7.0  0.704819  gut_normal   \n",
       "3        3  gut_normal  complete     5   7.0  0.680723  gut_normal   \n",
       "4        4  gut_normal  complete     5   9.0  0.704819  gut_normal   \n",
       "..     ...         ...       ...   ...   ...       ...         ...   \n",
       "120     20       kefir  complete     5  11.0  0.654255       kefir   \n",
       "121     21       kefir  complete     5  12.0  0.654255       kefir   \n",
       "122     22       kefir  complete     5  12.0  0.642105       kefir   \n",
       "123     23       kefir  complete     5  12.0  0.644330       kefir   \n",
       "124     24       kefir  complete     5  11.0  0.651042       kefir   \n",
       "\n",
       "     community size  \n",
       "0                 5  \n",
       "1                 5  \n",
       "2                 5  \n",
       "3                 5  \n",
       "4                 5  \n",
       "..              ...  \n",
       "120               5  \n",
       "121               5  \n",
       "122               5  \n",
       "123               5  \n",
       "124               5  \n",
       "\n",
       "[125 rows x 8 columns]"
      ]
     },
     "execution_count": 21,
     "metadata": {},
     "output_type": "execute_result"
    }
   ],
   "source": [
    "df\n"
   ]
  },
  {
   "cell_type": "markdown",
   "metadata": {},
   "source": [
    "## Plotting"
   ]
  },
  {
   "cell_type": "code",
   "execution_count": 24,
   "metadata": {},
   "outputs": [],
   "source": [
    "sizes = [2,5,10,20,30,40]\n",
    "#sizes = [5]\n",
    "subdf = df[df[\"size\"].isin(sizes)].copy()\n",
    "subdf[\"Competition\"] = subdf[\"mro\"]\n",
    "subdf[\"Cooperation\"] = subdf[\"mip\"]"
   ]
  },
  {
   "cell_type": "code",
   "execution_count": 29,
   "metadata": {
    "scrolled": false
   },
   "outputs": [
    {
     "data": {
      "image/png": "[encoded data removed]",
      "text/plain": [
       "<Figure size 216x216 with 1 Axes>"
      ]
     },
     "metadata": {
      "needs_background": "light"
     },
     "output_type": "display_data"
    }
   ],
   "source": [
    "palette = {\"random\": '#cccccc', \"bin_rnd_01\": '#ed7e17', \"bin_rnd_001\": '#1ba055', \"gut_normal\": '#000',\"gut_impaired\":'#377eb8',\"gut_t2d\":'#e41a1c',\"gut_refseq\":'#f781bf',\"kefir\": '#984ea3'}\n",
    "g = sns.FacetGrid(subdf, col=\"community size\", hue=\"type\", height=3,hue_order=types, palette=palette)\n",
    "g.map(plt.scatter, \"Competition\", \"Cooperation\", alpha=0.5, s=25, linewidths=0.7, edgecolors='w');\n",
    "g.fig.subplots_adjust(top=0.9)\n",
    "g.set_axis_labels('', '') \n",
    "g.savefig(\"../figures/fig_1a.png\", dpi=300)"
   ]
  },
  {
   "cell_type": "code",
   "execution_count": 8,
   "metadata": {},
   "outputs": [
    {
     "data": {
      "image/png": "[encoded data removed]",
      "text/plain": [
       "<Figure size 288x432 with 2 Axes>"
      ]
     },
     "metadata": {
      "needs_background": "light"
     },
     "output_type": "display_data"
    }
   ],
   "source": [
    "f, axs = plt.subplots(2,1, figsize=(4,6))\n",
    "sns.lineplot(data=df, x=\"community size\", y=\"mip\", hue=\"type\", ci=\"sd\", palette=palette, legend=False, ax=axs[0])\n",
    "sns.lineplot(data=df, x=\"community size\", y=\"mro\", hue=\"type\", ci=\"sd\", palette=palette, legend=False, ax=axs[1])\n",
    "\n",
    "axs[0].set_xlim(2,40)\n",
    "axs[0].set_ylim(0,45)\n",
    "axs[0].set_ylabel(\"Cooperation\")\n",
    "axs[0].set_yticks([0, 10, 20, 30, 40])\n",
    "\n",
    "axs[1].set_xlim(2,40)\n",
    "axs[1].set_ylabel(\"Competition\")\n",
    "axs[1].set_yticks([0.3, 0.4, 0.5, 0.6])\n",
    "plt.tight_layout()\n",
    "\n",
    "plt.savefig(\"../figures/fig_1bc.png\", dpi=300)"
   ]
  },
  {
   "cell_type": "code",
   "execution_count": null,
   "metadata": {},
   "outputs": [],
   "source": []
  },
  {
   "cell_type": "code",
   "execution_count": null,
   "metadata": {},
   "outputs": [],
   "source": []
  },
  {
   "cell_type": "code",
   "execution_count": null,
   "metadata": {},
   "outputs": [],
   "source": []
  }
 ],
 "metadata": {
  "kernelspec": {
   "display_name": "Python 3",
   "language": "python",
   "name": "python3"
  },
  "language_info": {
   "codemirror_mode": {
    "name": "ipython",
    "version": 3
   },
   "file_extension": ".py",
   "mimetype": "text/x-python",
   "name": "python",
   "nbconvert_exporter": "python",
   "pygments_lexer": "ipython3",
   "version": "3.8.8"
  }
 },
 "nbformat": 4,
 "nbformat_minor": 2
}
