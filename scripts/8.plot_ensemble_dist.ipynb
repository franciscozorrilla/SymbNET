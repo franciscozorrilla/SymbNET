{
 "cells": [
  {
   "cell_type": "markdown",
   "metadata": {},
   "source": [
    "## ❓ 8. Quantify network uncertainity (optional)"
   ]
  },
  {
   "cell_type": "markdown",
   "metadata": {},
   "source": [
    "You are now familiar with how the CarveMe can build ensemble models, next we will inspect the generated output. This notebook loads the ensembles directly from the `/ensembles/` folder. You may follow along passively on GitHub or launch the jupyter notebook from your terminal to interactively run through each code chunk. To do so, navigate to the repo root folder SymbNET and run the following command on your terminal:\n",
    "\n",
    "```\n",
    "$ jupyter-notebook\n",
    "```"
   ]
  },
  {
   "cell_type": "code",
   "execution_count": 2,
   "metadata": {},
   "outputs": [],
   "source": [
    "%matplotlib inline"
   ]
  },
  {
   "cell_type": "code",
   "execution_count": 3,
   "metadata": {},
   "outputs": [],
   "source": [
    "from scipy.spatial.distance import jaccard\n",
    "from framed.cobra.ensemble import load_ensemble\n",
    "import matplotlib.pyplot as plt\n",
    "import seaborn as sns\n",
    "sns.set_style('white')"
   ]
  },
  {
   "cell_type": "markdown",
   "metadata": {},
   "source": [
    "### Load models"
   ]
  },
  {
   "cell_type": "code",
   "execution_count": 88,
   "metadata": {},
   "outputs": [],
   "source": [
    "# gut normal species\n",
    "organisms = ['B. uniformis', 'R. bromii', 'B. wexlerae', 'E. rectale', 'F. saccharivorans']\n",
    "\n",
    "models = {\n",
    "    'B. uniformis': '../ensembles/ERR260255_bin.24.s.xml',\n",
    "    'R. bromii': '../ensembles/ERR260255_bin.7.p.xml',\n",
    "    'B. wexlerae': '../ensembles/ERR260255_bin.9.s.xml',\n",
    "    'E. rectale': '../ensembles/ERR260255_bin.19.p.xml',\n",
    "    'F. saccharivorans': '../ensembles/ERR260255_bin.14.p.xml'\n",
    "}\n",
    "\n",
    "for label, model_file in models.items():\n",
    "    models[label] =  load_ensemble(model_file, flavor='cobra')\n",
    "\n",
    "    \n",
    "# gut impaired species\n",
    "organisms = ['B. uniformis', 'R. bromii', 'B. wexlerae', 'E. rectale', 'F. saccharivorans']\n",
    "\n",
    "models = {\n",
    "    'B. uniformis': '../ensembles/ERR260172_bin.10.p.xml',\n",
    "    'R. bromii': '../ensembles/ERR260172_bin.44.p.xml',\n",
    "    'B. wexlerae': '../ensembles/ERR260172_bin.7.s.xml',\n",
    "    'E. rectale': '../ensembles/ERR260172_bin.31.s.xml',\n",
    "    'F. saccharivorans': '../ensembles/ERR260172_bin.34.p.xml'\n",
    "}\n",
    "\n",
    "for label, model_file in models.items():\n",
    "    models[label] =  load_ensemble(model_file, flavor='cobra')\n",
    "\n",
    "    \n",
    "# gut t2d species\n",
    "organisms = ['B. uniformis', 'R. bromii', 'B. wexlerae', 'E. rectale', 'F. saccharivorans']\n",
    "\n",
    "models = {\n",
    "    'B. uniformis': '../ensembles/ERR260140_bin.3.s.xml',\n",
    "    'R. bromii': '../ensembles/ERR260140_bin.19.p.xml',\n",
    "    'B. wexlerae': '../ensembles/ERR260140_bin.13.s.xml',\n",
    "    'E. rectale': '../ensembles/ERR260140_bin.11.s.xml',\n",
    "    'F. saccharivorans': '../ensembles/ERR260140_bin.10.p.xml'\n",
    "}\n",
    "\n",
    "for label, model_file in models.items():\n",
    "    models[label] =  load_ensemble(model_file, flavor='cobra')\n",
    "\n",
    "    \n",
    "# gut refseq species\n",
    "organisms = ['B. uniformis', 'R. bromii', 'B. wexlerae', 'E. rectale', 'F. saccharivorans']\n",
    "\n",
    "models = {\n",
    "    'B. uniformis': '../ensembles/GCF_018292165.1_ASM1829216v1_protein.xml',\n",
    "    'R. bromii': '../ensembles/GCF_002834225.1_ASM283422v1_protein.xml',\n",
    "    'B. wexlerae': '../ensembles/GCF_018785545.1_ASM1878554v1_protein.xml',\n",
    "    'E. rectale': '../ensembles/GCF_000020605.1_ASM2060v1_protein.xml',\n",
    "    'F. saccharivorans': '../ensembles/GCF_015557635.1_ASM1555763v1_protein.xml'\n",
    "}\n",
    "\n",
    "for label, model_file in models.items():\n",
    "    models[label] =  load_ensemble(model_file, flavor='cobra')\n",
    "\n",
    "\n",
    "    \n",
    "    \n",
    "\n"
   ]
  },
  {
   "cell_type": "markdown",
   "metadata": {},
   "source": [
    "### Kefir community"
   ]
  },
  {
   "cell_type": "code",
   "execution_count": 5,
   "metadata": {},
   "outputs": [
    {
     "name": "stderr",
     "output_type": "stream",
     "text": [
      "/opt/anaconda3/lib/python3.8/site-packages/seaborn/distributions.py:2557: FutureWarning: `distplot` is a deprecated function and will be removed in a future version. Please adapt your code to use either `displot` (a figure-level function with similar flexibility) or `histplot` (an axes-level function for histograms).\n",
      "  warnings.warn(msg, FutureWarning)\n",
      "/opt/anaconda3/lib/python3.8/site-packages/seaborn/distributions.py:2557: FutureWarning: `distplot` is a deprecated function and will be removed in a future version. Please adapt your code to use either `displot` (a figure-level function with similar flexibility) or `histplot` (an axes-level function for histograms).\n",
      "  warnings.warn(msg, FutureWarning)\n",
      "/opt/anaconda3/lib/python3.8/site-packages/seaborn/distributions.py:2557: FutureWarning: `distplot` is a deprecated function and will be removed in a future version. Please adapt your code to use either `displot` (a figure-level function with similar flexibility) or `histplot` (an axes-level function for histograms).\n",
      "  warnings.warn(msg, FutureWarning)\n",
      "/opt/anaconda3/lib/python3.8/site-packages/seaborn/distributions.py:2557: FutureWarning: `distplot` is a deprecated function and will be removed in a future version. Please adapt your code to use either `displot` (a figure-level function with similar flexibility) or `histplot` (an axes-level function for histograms).\n",
      "  warnings.warn(msg, FutureWarning)\n",
      "/opt/anaconda3/lib/python3.8/site-packages/seaborn/distributions.py:2557: FutureWarning: `distplot` is a deprecated function and will be removed in a future version. Please adapt your code to use either `displot` (a figure-level function with similar flexibility) or `histplot` (an axes-level function for histograms).\n",
      "  warnings.warn(msg, FutureWarning)\n"
     ]
    },
    {
     "data": {
      "image/png": "[encoded data removed]",
      "text/plain": [
       "<Figure size 576x252 with 1 Axes>"
      ]
     },
     "metadata": {},
     "output_type": "display_data"
    }
   ],
   "source": [
    "# kefir species\n",
    "organisms = ['L. mesenteroides', 'L. lactis', 'A. fabarum', 'L. kefiranofaciens', 'L. kefiri']\n",
    "\n",
    "models = {\n",
    "    'L. mesenteroides': '../ensembles/230a_03182016.xml',\n",
    "    'L. lactis': '../ensembles/261_03182016.xml',\n",
    "    'A. fabarum': '../ensembles/290_03182016.xml',\n",
    "    'L. kefiranofaciens': '../ensembles/322b_03182016.xml',\n",
    "    'L. kefiri': '../ensembles/376_03182016.xml'\n",
    "}\n",
    "\n",
    "for label, model_file in models.items():\n",
    "    models[label] =  load_ensemble(model_file, flavor='cobra')\n",
    "    \n",
    "# calculate distances\n",
    "def ensemble_distance(ensemble):\n",
    "    bin_matrix = [[int(ensemble.reaction_states[r_id][i])\n",
    "                   for r_id in ensemble.reaction_states]\n",
    "                  for i in range(ensemble.size)]\n",
    "    \n",
    "    distances = [jaccard(bin_matrix[i], bin_matrix[j])\n",
    "                 for i in range(ensemble.size)\n",
    "                 for j in range(i+1, ensemble.size)]\n",
    "    \n",
    "    return distances\n",
    "dists = {label: ensemble_distance(model) for label, model in models.items()}\n",
    "\n",
    "# plot\n",
    "_, ax = plt.subplots(figsize=(8,3.5))\n",
    "colors = sns.color_palette(n_colors=5)\n",
    "for i, label in enumerate(organisms):\n",
    "    sns.distplot(dists[label], ax=ax, bins=20, kde=True, norm_hist=True, color=colors[i],\n",
    "                  hist_kws={'alpha': 0.2}, kde_kws={'shade': True, 'alpha':0.9})\n",
    "\n",
    "ax.set_xlabel('Jaccard distance')\n",
    "ax.set_ylabel('Frequency')\n",
    "ax.legend(organisms)\n",
    "ax.set_xlim(0,0.6)\n",
    "ax.set_ylim(0,70)\n",
    "plt.tight_layout()\n",
    "plt.savefig('../plots/ensemble_dist/kefir.png', dpi=300)"
   ]
  },
  {
   "cell_type": "markdown",
   "metadata": {},
   "source": [
    "### Soil community"
   ]
  },
  {
   "cell_type": "code",
   "execution_count": 4,
   "metadata": {},
   "outputs": [
    {
     "name": "stderr",
     "output_type": "stream",
     "text": [
      "/opt/anaconda3/lib/python3.8/site-packages/seaborn/distributions.py:2557: FutureWarning: `distplot` is a deprecated function and will be removed in a future version. Please adapt your code to use either `displot` (a figure-level function with similar flexibility) or `histplot` (an axes-level function for histograms).\n",
      "  warnings.warn(msg, FutureWarning)\n",
      "/opt/anaconda3/lib/python3.8/site-packages/seaborn/distributions.py:2557: FutureWarning: `distplot` is a deprecated function and will be removed in a future version. Please adapt your code to use either `displot` (a figure-level function with similar flexibility) or `histplot` (an axes-level function for histograms).\n",
      "  warnings.warn(msg, FutureWarning)\n",
      "/opt/anaconda3/lib/python3.8/site-packages/seaborn/distributions.py:2557: FutureWarning: `distplot` is a deprecated function and will be removed in a future version. Please adapt your code to use either `displot` (a figure-level function with similar flexibility) or `histplot` (an axes-level function for histograms).\n",
      "  warnings.warn(msg, FutureWarning)\n",
      "/opt/anaconda3/lib/python3.8/site-packages/seaborn/distributions.py:2557: FutureWarning: `distplot` is a deprecated function and will be removed in a future version. Please adapt your code to use either `displot` (a figure-level function with similar flexibility) or `histplot` (an axes-level function for histograms).\n",
      "  warnings.warn(msg, FutureWarning)\n",
      "/opt/anaconda3/lib/python3.8/site-packages/seaborn/distributions.py:306: UserWarning: Dataset has 0 variance; skipping density estimate.\n",
      "  warnings.warn(msg, UserWarning)\n",
      "/opt/anaconda3/lib/python3.8/site-packages/seaborn/distributions.py:2557: FutureWarning: `distplot` is a deprecated function and will be removed in a future version. Please adapt your code to use either `displot` (a figure-level function with similar flexibility) or `histplot` (an axes-level function for histograms).\n",
      "  warnings.warn(msg, FutureWarning)\n"
     ]
    },
    {
     "data": {
      "image/png": "[encoded data removed]",
      "text/plain": [
       "<Figure size 576x252 with 1 Axes>"
      ]
     },
     "metadata": {},
     "output_type": "display_data"
    }
   ],
   "source": [
    "# soil species\n",
    "organisms = ['f__Thermoleophilaceae;g__', 'f__Herpetosiphonaceae;g__', 'f__Phormidiaceae;g__Microcoleus', 'f__Geodermatophilaceae;g__Geodermatophilus', 'f__Rubrobacteraceae;g__Rubrobacter_A']\n",
    "\n",
    "models = {\n",
    "    'f__Thermoleophilaceae;g__': '../ensembles/ERR671933_bin.1.o.xml',\n",
    "    'f__Herpetosiphonaceae;g__': '../ensembles/ERR671933_bin.2.o.xml',\n",
    "    'f__Phormidiaceae;g__Microcoleus': '../ensembles/ERR671933_bin.3.s.xml',\n",
    "    'f__Geodermatophilaceae;g__Geodermatophilus': '../ensembles/ERR671933_bin.4.o.xml',\n",
    "    'f__Rubrobacteraceae;g__Rubrobacter_A': '../ensembles/ERR671933_bin.5.s.xml'\n",
    "}\n",
    "\n",
    "for label, model_file in models.items():\n",
    "    models[label] =  load_ensemble(model_file, flavor='cobra')\n",
    "    \n",
    "# calculate distances\n",
    "def ensemble_distance(ensemble):\n",
    "    bin_matrix = [[int(ensemble.reaction_states[r_id][i])\n",
    "                   for r_id in ensemble.reaction_states]\n",
    "                  for i in range(ensemble.size)]\n",
    "    \n",
    "    distances = [jaccard(bin_matrix[i], bin_matrix[j])\n",
    "                 for i in range(ensemble.size)\n",
    "                 for j in range(i+1, ensemble.size)]\n",
    "    \n",
    "    return distances\n",
    "dists = {label: ensemble_distance(model) for label, model in models.items()}\n",
    "\n",
    "# plot\n",
    "_, ax = plt.subplots(figsize=(8,3.5))\n",
    "colors = sns.color_palette(n_colors=5)\n",
    "for i, label in enumerate(organisms):\n",
    "    sns.distplot(dists[label], ax=ax, bins=20, kde=True, norm_hist=True, color=colors[i],\n",
    "                  hist_kws={'alpha': 0.2}, kde_kws={'shade': True, 'alpha':0.9})\n",
    "\n",
    "ax.set_xlabel('Jaccard distance')\n",
    "ax.set_ylabel('Frequency')\n",
    "ax.legend(organisms)\n",
    "ax.set_xlim(0,0.6)\n",
    "ax.set_ylim(0,70)\n",
    "plt.tight_layout()\n",
    "plt.savefig('../plots/ensemble_dist/soil.png', dpi=300)"
   ]
  },
  {
   "cell_type": "markdown",
   "metadata": {},
   "source": [
    "## 🍾 You have completed this tutorial, move on to [the discussion](https://github.com/franciscozorrilla/SymbNET/blob/main/scripts/9.wrap_up_discussion.md)"
   ]
  }
 ],
 "metadata": {
  "anaconda-cloud": {},
  "kernelspec": {
   "display_name": "Python 3",
   "language": "python",
   "name": "python3"
  },
  "language_info": {
   "codemirror_mode": {
    "name": "ipython",
    "version": 3
   },
   "file_extension": ".py",
   "mimetype": "text/x-python",
   "name": "python",
   "nbconvert_exporter": "python",
   "pygments_lexer": "ipython3",
   "version": "3.8.8"
  }
 },
 "nbformat": 4,
 "nbformat_minor": 2
}
