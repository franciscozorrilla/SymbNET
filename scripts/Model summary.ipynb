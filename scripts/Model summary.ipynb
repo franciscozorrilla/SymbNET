{
 "cells": [
  {
   "cell_type": "code",
   "execution_count": 1,
   "metadata": {},
   "outputs": [],
   "source": [
    "%matplotlib inline"
   ]
  },
  {
   "cell_type": "code",
   "execution_count": 2,
   "metadata": {},
   "outputs": [],
   "source": [
    "from framed import load_cbmodel\n",
    "import matplotlib.pyplot as plt\n",
    "import seaborn as sns\n",
    "import pandas as pd\n",
    "sns.set_style('white')"
   ]
  },
  {
   "cell_type": "markdown",
   "metadata": {},
   "source": [
    "### Load models"
   ]
  },
  {
   "cell_type": "code",
   "execution_count": 3,
   "metadata": {},
   "outputs": [],
   "source": [
    "organisms = ['B. subtilis', 'E. coli', 'M. genitalium',\n",
    "             'P. aeruginosa', 'R. solanacearum', 'S. oneidensis']\n",
    "\n",
    "original = {\n",
    "    'B. subtilis': ('../models/original/iYO844.xml', 'bigg'),\n",
    "    'E. coli': ('../models/original/iML1515.xml', 'bigg'),\n",
    "    'M. genitalium': ('../models/original/iPS189_fixed.xml', 'cobra'),\n",
    "    'P. aeruginosa': ('../models/original/iMO1056_fixed.xml', 'cobra'),\n",
    "    'R. solanacearum': ('../models/original/iRP1476_fixed.xml', 'cobra'),\n",
    "    'S. oneidensis': ('../models/original/iSO783_fixed.xml', 'cobra')\n",
    "}\n",
    "\n",
    "carveme = {\n",
    "    'B. subtilis': ('../models/CarveMe/Bsubtilis_168_ensemble.xml', 'cobra'),\n",
    "    'E. coli': ('../models/CarveMe/Ecoli_K12_MG1655_ensemble.xml', 'cobra'),\n",
    "    'M. genitalium': ('../models/CarveMe/M_genitalium_G37.xml', 'cobra'),\n",
    "    'P. aeruginosa': ('../models/CarveMe/Paeruginosa_PAO1_ensemble.xml', 'cobra'),\n",
    "    'R. solanacearum': ('../models/CarveMe/Rsolanacearum_GMI1000_ensemble.xml', 'cobra'),\n",
    "    'S. oneidensis': ('../models/CarveMe/Soneidensis_MR1_ensemble.xml', 'cobra')\n",
    "}\n",
    "\n",
    "modelseed = {\n",
    "    'B. subtilis': ('../models/modelSEED/bsubtilis.xml', 'seed'),\n",
    "    'E. coli': ('../models/modelSEED/ecoli.xml', 'seed'),\n",
    "    'M. genitalium': ('../models/modelSEED/mgenitalium.xml', 'seed'),\n",
    "    'P. aeruginosa': ('../models/modelSEED/paeruginosa.xml', 'seed'),\n",
    "    'R. solanacearum': ('../models/modelSEED/rsolanacearum.xml', 'seed'),\n",
    "    'S. oneidensis': ('../models/modelSEED/soneidensis.xml', 'seed')\n",
    "}"
   ]
  },
  {
   "cell_type": "code",
   "execution_count": 4,
   "metadata": {},
   "outputs": [],
   "source": [
    "for label, (model_file, flavor) in original.items():\n",
    "    original[label] =  load_cbmodel(model_file, flavor=flavor)\n",
    "\n",
    "for label, (model_file, flavor) in carveme.items():\n",
    "    carveme[label] =  load_cbmodel(model_file, flavor=flavor)\n",
    "    \n",
    "for label, (model_file, flavor) in modelseed.items():\n",
    "    modelseed[label] =  load_cbmodel(model_file, flavor=flavor)"
   ]
  },
  {
   "cell_type": "markdown",
   "metadata": {},
   "source": [
    "### Summarize data"
   ]
  },
  {
   "cell_type": "code",
   "execution_count": 5,
   "metadata": {},
   "outputs": [],
   "source": [
    "data = []\n",
    "spontaneous = {'G_spontaneous', 'G_Unknown', 'G_s0001', 'G_NoAssignment'} \n",
    "\n",
    "for organism in organisms:\n",
    "    \n",
    "    model = original[organism]\n",
    "    n_genes = len(set(model.genes) - spontaneous)\n",
    "    #n_rxns = len([x for x in model.reactions if not x.startswith('R_EX_')])\n",
    "    n_enzrxns = len([x for x, rxn in model.reactions.items()\n",
    "                     if rxn.gpr is not None and str(rxn.gpr) not in spontaneous])\n",
    "    n_mets = len({x[2:-2] for x in model.metabolites})\n",
    "    data.append((organism, 'Original', n_genes, n_enzrxns, n_mets))\n",
    "    \n",
    "    model = carveme[organism]\n",
    "    n_genes = len(set(model.genes) - spontaneous)\n",
    "    #n_rxns = len([x for x in model.reactions if not x.startswith('R_EX_')])\n",
    "    n_enzrxns = len([x for x, rxn in model.reactions.items()\n",
    "                     if rxn.gpr is not None and str(rxn.gpr) not in spontaneous])\n",
    "    n_mets = len({x[2:-2] for x in model.metabolites})\n",
    "    data.append((organism, 'CarveMe', n_genes, n_enzrxns, n_mets))\n",
    "    \n",
    "    model = modelseed[organism]\n",
    "    n_genes = len(set(model.genes) - spontaneous)\n",
    "    #n_rxns = len([x for x in model.reactions if not x.startswith('EX_')])\n",
    "    n_enzrxns = len([x for x, rxn in model.reactions.items()\n",
    "                     if rxn.gpr is not None and str(rxn.gpr) not in spontaneous])\n",
    "    n_mets = len({x[:-3] for x in model.metabolites})\n",
    "    \n",
    "    data.append((organism, 'modelSEED', n_genes, n_enzrxns, n_mets))\n",
    "    \n",
    "df = pd.DataFrame(data, columns=['Organism', 'Source', 'Genes', 'Reactions', 'Metabolites'])"
   ]
  },
  {
   "cell_type": "code",
   "execution_count": 150,
   "metadata": {},
   "outputs": [
    {
     "data": {
      "image/png": "[encoded data removed]",
      "text/plain": [
       "<matplotlib.figure.Figure at 0x14d73d8d0>"
      ]
     },
     "metadata": {},
     "output_type": "display_data"
    }
   ],
   "source": [
    "f, (ax1, ax2, ax3) = plt.subplots(3, sharex=True, figsize=(5, 4.5))\n",
    "\n",
    "sns.barplot(x=\"Organism\", y=\"Genes\", hue=\"Source\", data=df, palette='deep', ax=ax1, alpha=0.8)\n",
    "ax1.set_ylim(0, 3000)\n",
    "ax1.set_yticks([0, 1500, 3000])\n",
    "ax1.set_xlabel('')\n",
    "legend_handles, legend_text = ax1.get_legend_handles_labels()\n",
    "ax1.legend(legend_text, bbox_to_anchor=(1.05, 1.5), ncol=3, handles=legend_handles)\n",
    "\n",
    "\n",
    "sns.barplot(x=\"Organism\", y=\"Reactions\", hue=\"Source\", data=df, palette='deep', ax=ax2, alpha=0.8)\n",
    "ax2.set_ylim(0, 3000)\n",
    "ax2.set_yticks([0, 1500, 3000])\n",
    "ax2.get_legend().set_title('')\n",
    "ax2.set_xlabel('')\n",
    "ax2.legend([])\n",
    "\n",
    "res = sns.barplot(x=\"Organism\", y=\"Metabolites\", hue=\"Source\", data=df, palette='deep', ax=ax3, alpha=0.8)\n",
    "ax3.set_xticklabels(ax3.get_xticklabels(), rotation=90)\n",
    "ax3.set_ylim(0, 2000)\n",
    "ax3.set_yticks([0, 1000, 2000])\n",
    "ax3.set_xlabel('')\n",
    "ax3.legend([])\n",
    "\n",
    "plt.tight_layout()\n",
    "plt.savefig('../results/other/summary.png', dpi=300, bbox_inches='tight')"
   ]
  }
 ],
 "metadata": {
  "kernelspec": {
   "display_name": "Python [default]",
   "language": "python",
   "name": "python2"
  },
  "language_info": {
   "codemirror_mode": {
    "name": "ipython",
    "version": 2
   },
   "file_extension": ".py",
   "mimetype": "text/x-python",
   "name": "python",
   "nbconvert_exporter": "python",
   "pygments_lexer": "ipython2",
   "version": "2.7.14"
  }
 },
 "nbformat": 4,
 "nbformat_minor": 2
}
