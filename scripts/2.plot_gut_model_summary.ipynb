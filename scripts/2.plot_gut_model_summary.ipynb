{
 "cells": [
  {
   "cell_type": "code",
   "execution_count": 1,
   "metadata": {},
   "outputs": [],
   "source": [
    "%matplotlib inline"
   ]
  },
  {
   "cell_type": "code",
   "execution_count": 2,
   "metadata": {},
   "outputs": [],
   "source": [
    "from framed import load_cbmodel\n",
    "import matplotlib.pyplot as plt\n",
    "import seaborn as sns\n",
    "import pandas as pd\n",
    "sns.set_style('white')"
   ]
  },
  {
   "cell_type": "markdown",
   "metadata": {},
   "source": [
    "### Load models"
   ]
  },
  {
   "cell_type": "code",
   "execution_count": 3,
   "metadata": {},
   "outputs": [],
   "source": [
    "organisms = ['B. uniformis', 'R. bromii', 'B. wexlerae', 'E. rectale', 'F. saccharivorans']\n",
    "\n",
    "gut_normal = {\n",
    "    'B. uniformis': ('../models/gut_normal/ERR260255_bin.24.s.xml', 'cobra'),\n",
    "    'R. bromii': ('../models/gut_normal/ERR260255_bin.7.p.xml', 'cobra'),\n",
    "    'B. wexlerae': ('../models/gut_normal/ERR260255_bin.9.s.xml', 'cobra'),\n",
    "    'E. rectale': ('../models/gut_normal/ERR260255_bin.19.p.xml', 'cobra'),\n",
    "    'F. saccharivorans': ('../models/gut_normal/ERR260255_bin.14.p.xml', 'cobra')\n",
    "}\n",
    "\n",
    "gut_impaired = {\n",
    "    'B. uniformis': ('../models/gut_impaired/ERR260172_bin.10.p.xml', 'cobra'),\n",
    "    'R. bromii': ('../models/gut_impaired/ERR260172_bin.44.p.xml', 'cobra'),\n",
    "    'B. wexlerae': ('../models/gut_impaired/ERR260172_bin.7.s.xml', 'cobra'),\n",
    "    'E. rectale': ('../models/gut_impaired/ERR260172_bin.31.s.xml', 'cobra'),\n",
    "    'F. saccharivorans': ('../models/gut_impaired/ERR260172_bin.34.p.xml', 'cobra')\n",
    "}\n",
    "\n",
    "gut_t2d = {\n",
    "    'B. uniformis': ('../models/gut_t2d/ERR260140_bin.3.s.xml', 'cobra'),\n",
    "    'R. bromii': ('../models/gut_t2d/ERR260140_bin.19.p.xml', 'cobra'),\n",
    "    'B. wexlerae': ('../models/gut_t2d/ERR260140_bin.13.s.xml', 'cobra'),\n",
    "    'E. rectale': ('../models/gut_t2d/ERR260140_bin.11.s.xml', 'cobra'),\n",
    "    'F. saccharivorans': ('../models/gut_t2d/ERR260140_bin.10.p.xml', 'cobra')\n",
    "}\n",
    "\n",
    "gut_refseq = {\n",
    "    'B. uniformis': ('../models/gut_refseq/GCF_018292165.1_ASM1829216v1_protein.xml', 'cobra'),\n",
    "    'R. bromii': ('../models/gut_refseq/GCF_002834225.1_ASM283422v1_protein.xml', 'cobra'),\n",
    "    'B. wexlerae': ('../models/gut_refseq/GCF_018785545.1_ASM1878554v1_protein.xml', 'cobra'),\n",
    "    'E. rectale': ('../models/gut_refseq/GCF_000020605.1_ASM2060v1_protein.xml', 'cobra'),\n",
    "    'F. saccharivorans': ('../models/gut_refseq/GCF_015557635.1_ASM1555763v1_protein.xml', 'cobra')\n",
    "}\n"
   ]
  },
  {
   "cell_type": "code",
   "execution_count": 5,
   "metadata": {},
   "outputs": [],
   "source": [
    "for label, (model_file, flavor) in gut_normal.items():\n",
    "    gut_normal[label] =  load_cbmodel(model_file, flavor=flavor)\n",
    "\n",
    "for label, (model_file, flavor) in gut_impaired.items():\n",
    "    gut_impaired[label] =  load_cbmodel(model_file, flavor=flavor)\n",
    "    \n",
    "for label, (model_file, flavor) in gut_t2d.items():\n",
    "    gut_t2d[label] =  load_cbmodel(model_file, flavor=flavor)\n",
    "\n",
    "for label, (model_file, flavor) in gut_refseq.items():\n",
    "    gut_refseq[label] =  load_cbmodel(model_file, flavor=flavor)"
   ]
  },
  {
   "cell_type": "markdown",
   "metadata": {},
   "source": [
    "### Summarize data"
   ]
  },
  {
   "cell_type": "code",
   "execution_count": 6,
   "metadata": {},
   "outputs": [],
   "source": [
    "data = []\n",
    "spontaneous = {'G_spontaneous', 'G_Unknown', 'G_s0001', 'G_NoAssignment'} \n",
    "\n",
    "for organism in organisms:\n",
    "    \n",
    "    model = gut_normal[organism]\n",
    "    n_genes = len(set(model.genes) - spontaneous)\n",
    "    #n_rxns = len([x for x in model.reactions if not x.startswith('R_EX_')])\n",
    "    n_enzrxns = len([x for x, rxn in model.reactions.items()\n",
    "                     if rxn.gpr is not None and str(rxn.gpr) not in spontaneous])\n",
    "    n_mets = len({x[2:-2] for x in model.metabolites})\n",
    "    data.append((organism, 'gut_normal', n_genes, n_enzrxns, n_mets))\n",
    "    \n",
    "    model = gut_impaired[organism]\n",
    "    n_genes = len(set(model.genes) - spontaneous)\n",
    "    #n_rxns = len([x for x in model.reactions if not x.startswith('R_EX_')])\n",
    "    n_enzrxns = len([x for x, rxn in model.reactions.items()\n",
    "                     if rxn.gpr is not None and str(rxn.gpr) not in spontaneous])\n",
    "    n_mets = len({x[2:-2] for x in model.metabolites})\n",
    "    data.append((organism, 'gut_impaired', n_genes, n_enzrxns, n_mets))\n",
    "    \n",
    "    model = gut_t2d[organism]\n",
    "    n_genes = len(set(model.genes) - spontaneous)\n",
    "    #n_rxns = len([x for x in model.reactions if not x.startswith('R_EX_')])\n",
    "    n_enzrxns = len([x for x, rxn in model.reactions.items()\n",
    "                     if rxn.gpr is not None and str(rxn.gpr) not in spontaneous])\n",
    "    n_mets = len({x[2:-2] for x in model.metabolites})\n",
    "    data.append((organism, 'gut_t2d', n_genes, n_enzrxns, n_mets))\n",
    "    \n",
    "    model = gut_refseq[organism]\n",
    "    n_genes = len(set(model.genes) - spontaneous)\n",
    "    #n_rxns = len([x for x in model.reactions if not x.startswith('EX_')])\n",
    "    n_enzrxns = len([x for x, rxn in model.reactions.items()\n",
    "                     if rxn.gpr is not None and str(rxn.gpr) not in spontaneous])\n",
    "    n_mets = len({x[2:-2] for x in model.metabolites})\n",
    "    data.append((organism, 'gut_refseq', n_genes, n_enzrxns, n_mets))\n",
    "    \n",
    "df = pd.DataFrame(data, columns=['Organism', 'Source', 'Genes', 'Reactions', 'Metabolites'])"
   ]
  },
  {
   "cell_type": "code",
   "execution_count": 19,
   "metadata": {},
   "outputs": [
    {
     "name": "stderr",
     "output_type": "stream",
     "text": [
      "<ipython-input-19-fe4165c82074>:6: UserWarning: You have mixed positional and keyword arguments, some input may be discarded.\n",
      "  ax1.legend(legend_text, bbox_to_anchor=(1.1, 1), ncol=3, handles=legend_handles)\n"
     ]
    },
    {
     "data": {
      "image/png": "[encoded data removed]",
      "text/plain": [
       "<Figure size 360x324 with 3 Axes>"
      ]
     },
     "metadata": {},
     "output_type": "display_data"
    }
   ],
   "source": [
    "f, (ax1, ax2, ax3) = plt.subplots(3, sharex=True, figsize=(5, 4.5))\n",
    "\n",
    "sns.barplot(x=\"Organism\", y=\"Genes\", hue=\"Source\", data=df, palette='deep', ax=ax1, alpha=0.8)\n",
    "ax1.set_xlabel('')\n",
    "legend_handles, legend_text = ax1.get_legend_handles_labels()\n",
    "ax1.legend(legend_text, bbox_to_anchor=(1.1, 1), ncol=3, handles=legend_handles)\n",
    "\n",
    "\n",
    "sns.barplot(x=\"Organism\", y=\"Reactions\", hue=\"Source\", data=df, palette='deep', ax=ax2, alpha=0.8)\n",
    "ax2.get_legend().set_title('')\n",
    "ax2.set_xlabel('')\n",
    "ax2.legend([])\n",
    "\n",
    "res = sns.barplot(x=\"Organism\", y=\"Metabolites\", hue=\"Source\", data=df, palette='deep', ax=ax3, alpha=0.8)\n",
    "ax3.set_xticklabels(ax3.get_xticklabels(), rotation=90)\n",
    "ax3.set_xlabel('')\n",
    "ax3.legend([])\n",
    "\n",
    "plt.savefig('../plots/model_summary/gut.png', dpi=300, bbox_inches='tight')"
   ]
  },
  {
   "cell_type": "markdown",
   "execution_count": null,
   "metadata": {},
   "outputs": [],
   "source": ["### Move on to [exercise 3](https://github.com/franciscozorrilla/SymbNET/blob/main/scripts/3.run_smetana_detailed_interactions.md)"]
  }
 ],
 "metadata": {
  "kernelspec": {
   "display_name": "Python 3",
   "language": "python",
   "name": "python3"
  },
  "language_info": {
   "codemirror_mode": {
    "name": "ipython",
    "version": 3
   },
   "file_extension": ".py",
   "mimetype": "text/x-python",
   "name": "python",
   "nbconvert_exporter": "python",
   "pygments_lexer": "ipython3",
   "version": "3.8.8"
  }
 },
 "nbformat": 4,
 "nbformat_minor": 2
}
